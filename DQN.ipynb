{
 "cells": [
  {
   "cell_type": "code",
   "execution_count": 1,
   "metadata": {},
   "outputs": [],
   "source": [
    "from obstacle_tower_env import ObstacleTowerEnv\n",
    "\n",
    "import time as systime\n",
    "import numpy as np\n",
    "from collections import deque\n",
    "\n",
    "import torch\n",
    "device = torch.device(\"cuda:0\" if torch.cuda.is_available() else \"cpu\")"
   ]
  },
  {
   "cell_type": "code",
   "execution_count": 2,
   "metadata": {},
   "outputs": [],
   "source": [
    "from Source.Agents import DQN_Agent\n",
    "from Source.Buffer import Buffer\n",
    "from Source.Utils  import Tracker, Converter"
   ]
  },
  {
   "cell_type": "code",
   "execution_count": 3,
   "metadata": {},
   "outputs": [],
   "source": [
    "UPDATE_EVERY = 4\n",
    "DISPLAY_EVERY = 100\n",
    "EPOCHS = 5000\n",
    "PREFIX = \"\"\n",
    "SUFFIX = \"Model2\"\n",
    "\n",
    "tracker = Tracker(DISPLAY_EVERY)"
   ]
  },
  {
   "cell_type": "markdown",
   "metadata": {},
   "source": [
    "----"
   ]
  },
  {
   "cell_type": "code",
   "execution_count": 4,
   "metadata": {},
   "outputs": [
    {
     "name": "stderr",
     "output_type": "stream",
     "text": [
      "INFO:mlagents_envs:\n",
      "'ObstacleTower-v2.2' started successfully!\n",
      "Unity Academy name: ObstacleTower-v2.2\n",
      "        Number of Brains: 1\n",
      "        Number of Training Brains : 1\n",
      "        Reset Parameters :\n",
      "\t\tstarting-floor -> 0.0\n",
      "\t\tvisual-theme -> 1.0\n",
      "\t\tallowed-rooms -> 2.0\n",
      "\t\tdefault-theme -> 0.0\n",
      "\t\tallowed-floors -> 2.0\n",
      "\t\tagent-perspective -> 1.0\n",
      "\t\tlighting-type -> 1.0\n",
      "\t\tdense-reward -> 1.0\n",
      "\t\tallowed-modules -> 2.0\n",
      "\t\ttower-seed -> -1.0\n",
      "\t\ttotal-floors -> 100.0\n",
      "Unity brain name: LearningBrain\n",
      "        Number of Visual Observations (per agent): 1\n",
      "        Vector Observation space size (per agent): 8\n",
      "        Number of stacked Vector Observation: 1\n",
      "        Vector Action space type: discrete\n",
      "        Vector Action space size (per agent): [3, 3, 2, 3]\n",
      "        Vector Action descriptions: Movement Forward/Back, Camera, Jump, Movement Left/Right\n",
      "INFO:gym_unity:1 agents within environment.\n"
     ]
    }
   ],
   "source": [
    "env = ObstacleTowerEnv('./ObstacleTower/obstacletower', retro=False, realtime_mode=False)"
   ]
  },
  {
   "cell_type": "code",
   "execution_count": 5,
   "metadata": {},
   "outputs": [],
   "source": [
    "action_size = np.prod(env.action_space.nvec.tolist()).item()\n",
    "state_size  = list(env.observation_space[0].shape)\n",
    "\n",
    "agent   = DQN_Agent(state_size=state_size, action_size=action_size, model_name=\"DQN_2\",\n",
    "                    device=device, n_iter=1, learning_rate=2e-4) \n",
    "buffer  = Buffer(buffer_size = 1e4, batch_size = 64)"
   ]
  },
  {
   "cell_type": "code",
   "execution_count": 6,
   "metadata": {
    "scrolled": false
   },
   "outputs": [
    {
     "name": "stdout",
     "output_type": "stream",
     "text": [
      "[100/5000 | 780.45s] Mean: -0.0096 | Max: 1.5117 | Mean Lvl: 0.1600 | Max Lvl: 1.0.                     \n",
      "[200/5000 | 800.85s] Mean: 0.0234 | Max: 1.4720 | Mean Lvl: 0.1650 | Max Lvl: 1.0.                      \n",
      "[300/5000 | 793.29s] Mean: -0.0511 | Max: 1.4540 | Mean Lvl: 0.1500 | Max Lvl: 1.0.                     \n",
      "[400/5000 | 806.34s] Mean: 0.0093 | Max: 1.4340 | Mean Lvl: 0.1550 | Max Lvl: 1.0.                      \n",
      "[500/5000 | 838.15s] Mean: 0.0147 | Max: 1.5660 | Mean Lvl: 0.1560 | Max Lvl: 1.0.                     \n",
      "[600/5000 | 856.77s] Mean: 0.0211 | Max: 1.6280 | Mean Lvl: 0.1583 | Max Lvl: 1.0.                      \n",
      "[700/5000 | 870.23s] Mean: -0.0188 | Max: 1.4080 | Mean Lvl: 0.1571 | Max Lvl: 1.0.                     \n",
      "[800/5000 | 889.16s] Mean: 0.1047 | Max: 1.5220 | Mean Lvl: 0.1663 | Max Lvl: 1.0.                      \n",
      "[900/5000 | 906.18s] Mean: 0.0260 | Max: 1.5040 | Mean Lvl: 0.1667 | Max Lvl: 1.0.                      \n",
      "[1000/5000 | 902.13s] Mean: -0.0835 | Max: 1.4300 | Mean Lvl: 0.1590 | Max Lvl: 1.0.                     \n",
      "[1100/5000 | 890.40s] Mean: -0.2000 | Max: -0.2000 | Mean Lvl: 0.1445 | Max Lvl: 1.0.                     \n",
      "[1200/5000 | 887.44s] Mean: -0.2000 | Max: -0.2000 | Mean Lvl: 0.1325 | Max Lvl: 1.0.                     \n",
      "[1300/5000 | 890.72s] Mean: -0.1864 | Max: 1.1580 | Mean Lvl: 0.1231 | Max Lvl: 1.0.                      \n",
      "[1400/5000 | 875.92s] Mean: -0.2000 | Max: -0.2000 | Mean Lvl: 0.1143 | Max Lvl: 1.0.                     \n",
      "[1500/5000 | 885.01s] Mean: -0.2000 | Max: -0.2000 | Mean Lvl: 0.1067 | Max Lvl: 1.0.                     \n",
      "[1600/5000 | 912.44s] Mean: -0.2000 | Max: -0.2000 | Mean Lvl: 0.1000 | Max Lvl: 1.0.                     \n",
      "[1700/5000 | 964.15s] Mean: -0.2000 | Max: -0.2000 | Mean Lvl: 0.0941 | Max Lvl: 1.0.                      \n",
      "[1800/5000 | 918.31s] Mean: -0.2000 | Max: -0.2000 | Mean Lvl: 0.0889 | Max Lvl: 1.0.                     \n",
      "[1900/5000 | 876.00s] Mean: -0.2000 | Max: -0.2000 | Mean Lvl: 0.0842 | Max Lvl: 1.0.                     \n",
      "[2000/5000 | 881.40s] Mean: -0.2000 | Max: -0.2000 | Mean Lvl: 0.0800 | Max Lvl: 1.0.                     \n",
      "[2100/5000 | 881.95s] Mean: -0.2000 | Max: -0.2000 | Mean Lvl: 0.0762 | Max Lvl: 1.0.                     \n",
      "[2200/5000 | 891.65s] Mean: -0.2000 | Max: -0.2000 | Mean Lvl: 0.0727 | Max Lvl: 1.0.                     \n",
      "[2300/5000 | 895.34s] Mean: -0.2000 | Max: -0.2000 | Mean Lvl: 0.0696 | Max Lvl: 1.0.                     \n",
      "[2400/5000 | 900.58s] Mean: -0.2000 | Max: -0.2000 | Mean Lvl: 0.0667 | Max Lvl: 1.0.                     \n",
      "[2500/5000 | 908.76s] Mean: -0.2000 | Max: -0.2000 | Mean Lvl: 0.0640 | Max Lvl: 1.0.                     \n",
      "[2600/5000 | 897.91s] Mean: -0.2000 | Max: -0.2000 | Mean Lvl: 0.0615 | Max Lvl: 1.0.                     \n",
      "[2700/5000 | 898.44s] Mean: -0.2000 | Max: -0.2000 | Mean Lvl: 0.0593 | Max Lvl: 1.0.                     \n",
      "[2800/5000 | 878.27s] Mean: -0.2000 | Max: -0.2000 | Mean Lvl: 0.0571 | Max Lvl: 1.0.                     \n",
      "[2900/5000 | 888.95s] Mean: -0.2000 | Max: -0.2000 | Mean Lvl: 0.0552 | Max Lvl: 1.0.                     \n",
      "[3000/5000 | 884.06s] Mean: -0.2000 | Max: -0.2000 | Mean Lvl: 0.0533 | Max Lvl: 1.0.                     \n",
      "[3100/5000 | 876.76s] Mean: -0.2000 | Max: -0.2000 | Mean Lvl: 0.0516 | Max Lvl: 1.0.                     \n",
      "[3200/5000 | 897.47s] Mean: -0.2000 | Max: -0.2000 | Mean Lvl: 0.0500 | Max Lvl: 1.0.                     \n",
      "[3300/5000 | 889.01s] Mean: -0.2000 | Max: -0.2000 | Mean Lvl: 0.0485 | Max Lvl: 1.0.                     \n",
      "[3400/5000 | 870.11s] Mean: -0.2000 | Max: -0.2000 | Mean Lvl: 0.0471 | Max Lvl: 1.0.                     \n",
      "[3500/5000 | 875.27s] Mean: -0.2000 | Max: -0.2000 | Mean Lvl: 0.0457 | Max Lvl: 1.0.                     \n",
      "[3600/5000 | 871.95s] Mean: -0.2000 | Max: -0.2000 | Mean Lvl: 0.0444 | Max Lvl: 1.0.                     \n",
      "[3700/5000 | 867.30s] Mean: -0.2000 | Max: -0.2000 | Mean Lvl: 0.0432 | Max Lvl: 1.0.                     \n",
      "[3800/5000 | 860.71s] Mean: -0.2000 | Max: -0.2000 | Mean Lvl: 0.0421 | Max Lvl: 1.0.                     \n",
      "[3900/5000 | 864.32s] Mean: -0.2000 | Max: -0.2000 | Mean Lvl: 0.0410 | Max Lvl: 1.0.                     \n",
      "[4000/5000 | 841.32s] Mean: -0.2000 | Max: -0.2000 | Mean Lvl: 0.0400 | Max Lvl: 1.0.                     \n",
      "[4100/5000 | 847.06s] Mean: -0.2000 | Max: -0.2000 | Mean Lvl: 0.0390 | Max Lvl: 1.0.                     \n",
      "[4200/5000 | 852.69s] Mean: -0.2000 | Max: -0.2000 | Mean Lvl: 0.0381 | Max Lvl: 1.0.                     \n",
      "[4300/5000 | 888.60s] Mean: -0.2000 | Max: -0.2000 | Mean Lvl: 0.0372 | Max Lvl: 1.0.                     \n",
      "[4400/5000 | 877.16s] Mean: -0.2000 | Max: -0.2000 | Mean Lvl: 0.0364 | Max Lvl: 1.0.                     \n",
      "[4500/5000 | 878.47s] Mean: -0.2000 | Max: -0.2000 | Mean Lvl: 0.0356 | Max Lvl: 1.0.                     \n",
      "[4600/5000 | 899.08s] Mean: -0.2000 | Max: -0.2000 | Mean Lvl: 0.0348 | Max Lvl: 1.0.                     \n",
      "[4700/5000 | 898.51s] Mean: -0.2000 | Max: -0.2000 | Mean Lvl: 0.0340 | Max Lvl: 1.0.                     \n",
      "[4800/5000 | 870.47s] Mean: -0.2000 | Max: -0.2000 | Mean Lvl: 0.0333 | Max Lvl: 1.0.                     \n",
      "[4900/5000 | 870.10s] Mean: -0.2000 | Max: -0.2000 | Mean Lvl: 0.0327 | Max Lvl: 1.0.                     \n",
      "[5000/5000 | 893.84s] Mean: -0.2000 | Max: -0.2000 | Mean Lvl: 0.0320 | Max Lvl: 1.0.                     \n"
     ]
    }
   ],
   "source": [
    "training_clock = systime.time()\n",
    "\n",
    "for epoch in range(EPOCHS):\n",
    "    env_info = env.reset()\n",
    "    \n",
    "    # extract data from environment\n",
    "    state = Converter.ProcessState(env_info[0])\n",
    "    initial_time, curr_level = env_info[2], env_info[3]\n",
    "\n",
    "    # define parameters\n",
    "    last_time, time, done = initial_time, initial_time, False\n",
    "    acc_reward = 0 \n",
    "    \n",
    "    # Play a level\n",
    "    count = 0\n",
    "    agent.step_begin()\n",
    "    while not done and time > 0:\n",
    "        # Act\n",
    "        action = agent.act(state=state)\n",
    "        env_info = env.step(Converter.OneHot2Action(action[0]))\n",
    "        next_state = Converter.ProcessState(env_info[0][0])\n",
    "        level, time, done = env_info[-1]['current_floor'], env_info[-1]['time_remaining'], env_info[2]\n",
    "        \n",
    "        # Check if the player cleared a level\n",
    "        if level > curr_level:\n",
    "            reward, curr_level, initial_time = 1 + max(0,last_time) / initial_time, level, time\n",
    "        else:\n",
    "            reward = -1 / initial_time\n",
    "        acc_reward += reward\n",
    "            \n",
    "        # check if the simulation is done   \n",
    "        if done:\n",
    "            buffer.add(state=state, action=action, reward=-1, next_state=next_state, done=done)\n",
    "            break\n",
    "        else:\n",
    "            buffer.add(state=state, action=action, reward=reward, next_state=next_state, done=done)\n",
    "            state, last_time = next_state, time\n",
    "            count += 1\n",
    "            \n",
    "            if count % UPDATE_EVERY == 0:\n",
    "                agent.step_update()\n",
    "    \n",
    "    tracker.add(reward=acc_reward, level=curr_level)\n",
    "    tracker.save_levels(agent.get_folder(prefix=PREFIX, suffix=SUFFIX))\n",
    "    agent.save(prefix=PREFIX, suffix=SUFFIX)\n",
    "    \n",
    "    # Display step info\n",
    "    if (epoch+1) % DISPLAY_EVERY == 0:\n",
    "        tracker.display(epoch=epoch, total_epochs=EPOCHS, clock=systime.time()-training_clock, end=\"\\n\")\n",
    "        training_clock = systime.time()\n",
    "    else:\n",
    "        estimated_clock = (systime.time()-training_clock) * (DISPLAY_EVERY / ( (epoch+1) % DISPLAY_EVERY) - 1)\n",
    "        tracker.display(epoch=epoch, total_epochs=EPOCHS, clock=estimated_clock, end=\"\\r\")\n",
    "        \n",
    "    agent.step_end()"
   ]
  },
  {
   "cell_type": "code",
   "execution_count": 7,
   "metadata": {},
   "outputs": [],
   "source": [
    "torch.cuda.empty_cache()\n",
    "env.close()"
   ]
  },
  {
   "cell_type": "code",
   "execution_count": null,
   "metadata": {},
   "outputs": [],
   "source": []
  }
 ],
 "metadata": {
  "kernelspec": {
   "display_name": "Python [conda env:drlnd]",
   "language": "python",
   "name": "conda-env-drlnd-py"
  },
  "language_info": {
   "codemirror_mode": {
    "name": "ipython",
    "version": 3
   },
   "file_extension": ".py",
   "mimetype": "text/x-python",
   "name": "python",
   "nbconvert_exporter": "python",
   "pygments_lexer": "ipython3",
   "version": "3.6.8"
  }
 },
 "nbformat": 4,
 "nbformat_minor": 2
}
