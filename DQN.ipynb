{
 "cells": [
  {
   "cell_type": "code",
   "execution_count": 1,
   "metadata": {},
   "outputs": [],
   "source": [
    "%load_ext autoreload\n",
    "%autoreload 2"
   ]
  },
  {
   "cell_type": "code",
   "execution_count": 2,
   "metadata": {},
   "outputs": [],
   "source": [
    "from obstacle_tower_env import ObstacleTowerEnv\n",
    "\n",
    "import numpy as np\n",
    "\n",
    "%matplotlib inline\n",
    "from matplotlib import pyplot as plt\n",
    "\n",
    "import torch\n",
    "device = torch.device(\"cuda:0\" if torch.cuda.is_available() else \"cpu\")"
   ]
  },
  {
   "cell_type": "code",
   "execution_count": 3,
   "metadata": {},
   "outputs": [],
   "source": [
    "from Source.Agents import DQN_Agent\n",
    "from Source.Buffer import Buffer\n",
    "\n",
    "def ProcessState(state):\n",
    "    return np.rollaxis(np.array([state]), 3, 1)\n",
    "\n",
    "def ProcessAction(action):\n",
    "    return [action[:3], action[3:6], action[6:8], action[8:]]"
   ]
  },
  {
   "cell_type": "code",
   "execution_count": 4,
   "metadata": {},
   "outputs": [
    {
     "name": "stderr",
     "output_type": "stream",
     "text": [
      "INFO:mlagents_envs:\n",
      "'ObstacleTower-v2.2' started successfully!\n",
      "Unity Academy name: ObstacleTower-v2.2\n",
      "        Number of Brains: 1\n",
      "        Number of Training Brains : 1\n",
      "        Reset Parameters :\n",
      "\t\tstarting-floor -> 0.0\n",
      "\t\tvisual-theme -> 1.0\n",
      "\t\tallowed-rooms -> 2.0\n",
      "\t\tdefault-theme -> 0.0\n",
      "\t\tallowed-floors -> 2.0\n",
      "\t\tagent-perspective -> 1.0\n",
      "\t\tlighting-type -> 1.0\n",
      "\t\tdense-reward -> 1.0\n",
      "\t\tallowed-modules -> 2.0\n",
      "\t\ttower-seed -> -1.0\n",
      "\t\ttotal-floors -> 100.0\n",
      "Unity brain name: LearningBrain\n",
      "        Number of Visual Observations (per agent): 1\n",
      "        Vector Observation space size (per agent): 8\n",
      "        Number of stacked Vector Observation: 1\n",
      "        Vector Action space type: discrete\n",
      "        Vector Action space size (per agent): [3, 3, 2, 3]\n",
      "        Vector Action descriptions: Movement Forward/Back, Camera, Jump, Movement Left/Right\n",
      "INFO:gym_unity:1 agents within environment.\n"
     ]
    }
   ],
   "source": [
    "env = ObstacleTowerEnv('./ObstacleTower/obstacletower', retro=False, realtime_mode=False)"
   ]
  },
  {
   "cell_type": "code",
   "execution_count": 5,
   "metadata": {},
   "outputs": [],
   "source": [
    "action_size = env.action_space.nvec.tolist()\n",
    "state_size  = list(env.observation_space[0].shape)\n",
    "\n",
    "buffer = Buffer(buffer_size=1e5, batch_size=128)\n",
    "agent  = DQN_Agent(state_size=state_size, action_size=action_size, buffer=buffer, device=device) "
   ]
  },
  {
   "cell_type": "code",
   "execution_count": null,
   "metadata": {},
   "outputs": [],
   "source": []
  },
  {
   "cell_type": "code",
   "execution_count": null,
   "metadata": {
    "scrolled": true
   },
   "outputs": [
    {
     "name": "stdout",
     "output_type": "stream",
     "text": [
      "[{}/{}] {} 1 100 0.0\n",
      "[{}/{}] {} 2 100 0.0\n",
      "[{}/{}] {} 3 100 0.0\n",
      "[{}/{}] {} 4 100 0.0\n",
      "[{}/{}] {} 5 100 0.0\n",
      "[{}/{}] {} 6 100 0.0\n",
      "[{}/{}] {} 7 100 0.0\n",
      "[{}/{}] {} 8 100 0.0\n",
      "[{}/{}] {} 9 100 0.0\n",
      "[{}/{}] {} 10 100 0.0\n",
      "[{}/{}] {} 11 100 0.0\n",
      "[{}/{}] {} 12 100 0.0\n",
      "[{}/{}] {} 13 100 0.0\n",
      "[{}/{}] {} 14 100 0.0\n",
      "[{}/{}] {} 15 100 0.0\n",
      "[{}/{}] {} 16 100 0.0\n",
      "[{}/{}] {} 17 100 0.0\n",
      "[{}/{}] {} 18 100 0.0\n",
      "[{}/{}] {} 19 100 0.0\n",
      "[{}/{}] {} 20 100 0.0\n",
      "[{}/{}] {} 21 100 0.0\n",
      "[{}/{}] {} 22 100 0.0\n",
      "[{}/{}] {} 23 100 0.0\n",
      "[{}/{}] {} 24 100 0.0\n",
      "[{}/{}] {} 25 100 0.0\n",
      "[{}/{}] {} 26 100 0.0\n",
      "[{}/{}] {} 27 100 0.0\n",
      "[{}/{}] {} 28 100 0.0\n",
      "[{}/{}] {} 29 100 0.0\n",
      "[{}/{}] {} 30 100 0.0\n",
      "[{}/{}] {} 31 100 0.0\n",
      "[{}/{}] {} 32 100 0.0\n",
      "[{}/{}] {} 33 100 0.0\n",
      "[{}/{}] {} 34 100 0.0\n",
      "[{}/{}] {} 35 100 0.0\n",
      "[{}/{}] {} 36 100 0.0\n",
      "[{}/{}] {} 37 100 0.0\n",
      "[{}/{}] {} 38 100 0.0\n",
      "[{}/{}] {} 39 100 0.0\n",
      "[{}/{}] {} 40 100 0.0\n",
      "[{}/{}] {} 41 100 0.0\n",
      "[{}/{}] {} 42 100 0.0\n",
      "[{}/{}] {} 43 100 0.0\n",
      "[{}/{}] {} 44 100 0.0\n",
      "[{}/{}] {} 45 100 0.0\n",
      "[{}/{}] {} 46 100 0.0\n",
      "[{}/{}] {} 47 100 0.0\n",
      "[{}/{}] {} 48 100 0.0\n",
      "[{}/{}] {} 49 100 0.0\n",
      "[{}/{}] {} 50 100 0.0\n",
      "[{}/{}] {} 51 100 0.0\n",
      "[{}/{}] {} 52 100 0.0\n"
     ]
    }
   ],
   "source": [
    "UPDATE_EVERY = 4\n",
    "EPOCHS = 100\n",
    "\n",
    "for epoch in range(EPOCHS):\n",
    "    state = ProcessState(env.reset()[0])\n",
    "    for t in range(1000):\n",
    "        agent.step_begin()\n",
    "\n",
    "        # Act\n",
    "        action = agent.act(state=[state])\n",
    "        env_info = env.step(ProcessAction(action))\n",
    "        next_state, reward, done = ProcessState(env_info[0][0]), env_info[1], env_info[2]\n",
    "\n",
    "\n",
    "        # Save frame\n",
    "        buffer.add(state=state, action=action, reward=reward, next_state=next_state, done=done)\n",
    "\n",
    "        # Update agent\n",
    "        if t % UPDATE_EVERY == 0:\n",
    "            agent.step_update()\n",
    "\n",
    "        if done:\n",
    "            break\n",
    "        else:\n",
    "            state = next_state\n",
    "    agent.save(prefix=\"Test\")\n",
    "    print(\"[{}/{}] {}\",epoch+1, EPOCHS, reward)\n",
    "\n",
    "agent.step_end()"
   ]
  },
  {
   "cell_type": "code",
   "execution_count": null,
   "metadata": {},
   "outputs": [],
   "source": [
    "env.close()"
   ]
  },
  {
   "cell_type": "code",
   "execution_count": null,
   "metadata": {},
   "outputs": [],
   "source": []
  }
 ],
 "metadata": {
  "kernelspec": {
   "display_name": "Python [conda env:drlnd]",
   "language": "python",
   "name": "conda-env-drlnd-py"
  },
  "language_info": {
   "codemirror_mode": {
    "name": "ipython",
    "version": 3
   },
   "file_extension": ".py",
   "mimetype": "text/x-python",
   "name": "python",
   "nbconvert_exporter": "python",
   "pygments_lexer": "ipython3",
   "version": "3.6.8"
  }
 },
 "nbformat": 4,
 "nbformat_minor": 2
}
