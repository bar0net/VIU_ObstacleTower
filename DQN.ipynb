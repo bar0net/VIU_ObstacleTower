{
 "cells": [
  {
   "cell_type": "code",
   "execution_count": 1,
   "metadata": {},
   "outputs": [],
   "source": [
    "from obstacle_tower_env import ObstacleTowerEnv\n",
    "\n",
    "import numpy as np\n",
    "from collections import deque\n",
    "\n",
    "%matplotlib inline\n",
    "from matplotlib import pyplot as plt\n",
    "\n",
    "import torch\n",
    "device = torch.device(\"cuda:0\" if torch.cuda.is_available() else \"cpu\")"
   ]
  },
  {
   "cell_type": "code",
   "execution_count": 2,
   "metadata": {},
   "outputs": [],
   "source": [
    "from Source.Agents import DQN_Agent\n",
    "from Source.Buffer import Buffer\n",
    "\n",
    "def ProcessState(state):\n",
    "    return np.rollaxis(np.array([state]), 3, 1)\n",
    "\n",
    "def ProcessAction(action):\n",
    "    return [action[:3], action[3:6], action[6:8], action[8:]]"
   ]
  },
  {
   "cell_type": "code",
   "execution_count": 3,
   "metadata": {},
   "outputs": [
    {
     "name": "stderr",
     "output_type": "stream",
     "text": [
      "INFO:mlagents_envs:\n",
      "'ObstacleTower-v2.2' started successfully!\n",
      "Unity Academy name: ObstacleTower-v2.2\n",
      "        Number of Brains: 1\n",
      "        Number of Training Brains : 1\n",
      "        Reset Parameters :\n",
      "\t\tstarting-floor -> 0.0\n",
      "\t\tvisual-theme -> 1.0\n",
      "\t\tallowed-rooms -> 2.0\n",
      "\t\tdefault-theme -> 0.0\n",
      "\t\tallowed-floors -> 2.0\n",
      "\t\tagent-perspective -> 1.0\n",
      "\t\tlighting-type -> 1.0\n",
      "\t\tdense-reward -> 1.0\n",
      "\t\tallowed-modules -> 2.0\n",
      "\t\ttower-seed -> -1.0\n",
      "\t\ttotal-floors -> 100.0\n",
      "Unity brain name: LearningBrain\n",
      "        Number of Visual Observations (per agent): 1\n",
      "        Vector Observation space size (per agent): 8\n",
      "        Number of stacked Vector Observation: 1\n",
      "        Vector Action space type: discrete\n",
      "        Vector Action space size (per agent): [3, 3, 2, 3]\n",
      "        Vector Action descriptions: Movement Forward/Back, Camera, Jump, Movement Left/Right\n",
      "INFO:gym_unity:1 agents within environment.\n"
     ]
    }
   ],
   "source": [
    "env = ObstacleTowerEnv('./ObstacleTower/obstacletower', retro=False, realtime_mode=False)"
   ]
  },
  {
   "cell_type": "code",
   "execution_count": 4,
   "metadata": {},
   "outputs": [],
   "source": [
    "action_size = env.action_space.nvec.tolist()\n",
    "state_size  = list(env.observation_space[0].shape)\n",
    "\n",
    "buffer = Buffer(buffer_size=2e4, batch_size=128)\n",
    "agent  = DQN_Agent(state_size=state_size, action_size=action_size, buffer=buffer, device=device, n_iter=8) "
   ]
  },
  {
   "cell_type": "code",
   "execution_count": null,
   "metadata": {
    "scrolled": true
   },
   "outputs": [
    {
     "name": "stdout",
     "output_type": "stream",
     "text": [
      "[5/100] -0.1000         \r"
     ]
    }
   ],
   "source": [
    "DISPLAY_EVERY = 10\n",
    "EPOCHS = 100\n",
    "\n",
    "rewards = deque(maxlen=DISPLAY_EVERY)\n",
    "\n",
    "for epoch in range(EPOCHS):\n",
    "    env_info = env.reset()\n",
    "    state = ProcessState(env_info[0])\n",
    "    curr_level = env_info[3]\n",
    "    curr_time  = env_info[2]\n",
    "    local_buffer = []\n",
    "    time, done = curr_time, False\n",
    "    acc_reward = -0.1\n",
    "    \n",
    "    # Play a level\n",
    "    agent.step_begin()\n",
    "    while not done and time > 0:\n",
    "        # Act\n",
    "        action = agent.act(state=state)\n",
    "        env_info = env.step(action[0])\n",
    "        next_state, level, time, done = ProcessState(env_info[0][0]), env_info[-1]['current_floor'], env_info[-1]['time_remaining'], env_info[2]\n",
    "        local_buffer.append( (state, action, next_state, done) )\n",
    "        \n",
    "        # If the player reaches a new level, compute the reward and\n",
    "        # dump all states to the buffer\n",
    "        if level > curr_level:\n",
    "            reward = 1 + level - max(0, (curr_time - max(0,time)) / curr_time)\n",
    "            curr_level, curr_time = level, max(0,time)\n",
    "            acc_reward += reward\n",
    "            \n",
    "            for state, action, next_state, done in local_buffer:\n",
    "                buffer.add(state=state, action=action, reward=reward, next_state=next_state, done=done)\n",
    "            del local_buffer\n",
    "            local_buffer = []\n",
    "\n",
    "        if done:\n",
    "            break\n",
    "        else:\n",
    "            state = next_state\n",
    "    \n",
    "    rewards.append(acc_reward)\n",
    "        \n",
    "    # Save frames to global buffer\n",
    "    for state, action, next_state, done in local_buffer:\n",
    "        buffer.add(state=state, action=action, reward=-0.1, next_state=next_state, done=done)\n",
    "    del local_buffer\n",
    "    \n",
    "    # Train agent\n",
    "    agent.step_update()\n",
    "        \n",
    "    agent.save(prefix=\"Test\")\n",
    "    print(\"[{}/{}] {:0.4f}         \".format(epoch+1, EPOCHS, acc_reward), end=\"\\r\")\n",
    "    \n",
    "    if (epoch+1) % DISPLAY_EVERY == 0:\n",
    "        print(\"[{}/{}] Mean: {:0.4f}         \".format(epoch+1, EPOCHS, np.mean(rewards)))\n",
    "        \n",
    "    \n",
    "    agent.step_end()"
   ]
  },
  {
   "cell_type": "code",
   "execution_count": null,
   "metadata": {},
   "outputs": [],
   "source": [
    "torch.cuda.empty_cache()\n",
    "env.close()"
   ]
  },
  {
   "cell_type": "code",
   "execution_count": null,
   "metadata": {},
   "outputs": [],
   "source": [
    "env.close()"
   ]
  },
  {
   "cell_type": "code",
   "execution_count": null,
   "metadata": {},
   "outputs": [],
   "source": [
    "# Show an iteration on screen\n",
    "if not env.realtime_mode:\n",
    "    env.close()\n",
    "    env = ObstacleTowerEnv('./ObstacleTower/obstacletower', retro=False, realtime_mode=True)\n",
    "time, done = curr_time, False\n",
    "while not done and time > 0:\n",
    "    # Act\n",
    "    action = agent.act(state=state)\n",
    "    env_info = env.step(action[0])\n",
    "    state, level, time, done = ProcessState(env_info[0][0]), env_info[-1]['current_floor'], env_info[-1]['time_remaining'], env_info[2]"
   ]
  },
  {
   "cell_type": "code",
   "execution_count": null,
   "metadata": {},
   "outputs": [],
   "source": []
  }
 ],
 "metadata": {
  "kernelspec": {
   "display_name": "Python [conda env:drlnd]",
   "language": "python",
   "name": "conda-env-drlnd-py"
  },
  "language_info": {
   "codemirror_mode": {
    "name": "ipython",
    "version": 3
   },
   "file_extension": ".py",
   "mimetype": "text/x-python",
   "name": "python",
   "nbconvert_exporter": "python",
   "pygments_lexer": "ipython3",
   "version": "3.6.8"
  }
 },
 "nbformat": 4,
 "nbformat_minor": 2
}
