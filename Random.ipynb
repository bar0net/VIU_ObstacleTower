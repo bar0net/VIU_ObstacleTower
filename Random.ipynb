{
 "cells": [
  {
   "cell_type": "code",
   "execution_count": 1,
   "metadata": {},
   "outputs": [],
   "source": [
    "from obstacle_tower_env import ObstacleTowerEnv\n",
    "\n",
    "import time as systime\n",
    "import numpy as np\n",
    "from collections import deque\n",
    "\n",
    "import torch\n",
    "device = torch.device(\"cuda:0\" if torch.cuda.is_available() else \"cpu\")"
   ]
  },
  {
   "cell_type": "code",
   "execution_count": 2,
   "metadata": {},
   "outputs": [],
   "source": [
    "from Source.Agents import Random_Agent\n",
    "from Source.Utils  import Tracker, Converter"
   ]
  },
  {
   "cell_type": "code",
   "execution_count": 3,
   "metadata": {},
   "outputs": [
    {
     "name": "stderr",
     "output_type": "stream",
     "text": [
      "INFO:mlagents_envs:\n",
      "'ObstacleTower-v2.2' started successfully!\n",
      "Unity Academy name: ObstacleTower-v2.2\n",
      "        Number of Brains: 1\n",
      "        Number of Training Brains : 1\n",
      "        Reset Parameters :\n",
      "\t\tstarting-floor -> 0.0\n",
      "\t\tvisual-theme -> 1.0\n",
      "\t\tallowed-rooms -> 2.0\n",
      "\t\tdefault-theme -> 0.0\n",
      "\t\tallowed-floors -> 2.0\n",
      "\t\tagent-perspective -> 1.0\n",
      "\t\tlighting-type -> 1.0\n",
      "\t\tdense-reward -> 1.0\n",
      "\t\tallowed-modules -> 2.0\n",
      "\t\ttower-seed -> -1.0\n",
      "\t\ttotal-floors -> 100.0\n",
      "Unity brain name: LearningBrain\n",
      "        Number of Visual Observations (per agent): 1\n",
      "        Vector Observation space size (per agent): 8\n",
      "        Number of stacked Vector Observation: 1\n",
      "        Vector Action space type: discrete\n",
      "        Vector Action space size (per agent): [3, 3, 2, 3]\n",
      "        Vector Action descriptions: Movement Forward/Back, Camera, Jump, Movement Left/Right\n",
      "INFO:gym_unity:1 agents within environment.\n"
     ]
    }
   ],
   "source": [
    "env = ObstacleTowerEnv('./ObstacleTower/obstacletower', retro=False, realtime_mode=False)"
   ]
  },
  {
   "cell_type": "code",
   "execution_count": 4,
   "metadata": {},
   "outputs": [],
   "source": [
    "action_size = np.prod(env.action_space.nvec.tolist()).item()\n",
    "state_size  = list(env.observation_space[0].shape)\n",
    "\n",
    "agent   = Random_Agent(state_size=state_size, action_size=action_size, device=device) "
   ]
  },
  {
   "cell_type": "code",
   "execution_count": 5,
   "metadata": {},
   "outputs": [],
   "source": [
    "UPDATE_EVERY = 4\n",
    "DISPLAY_EVERY = 100\n",
    "EPOCHS = 1000\n",
    "\n",
    "tracker = Tracker(DISPLAY_EVERY)"
   ]
  },
  {
   "cell_type": "code",
   "execution_count": 6,
   "metadata": {
    "scrolled": true
   },
   "outputs": [
    {
     "name": "stdout",
     "output_type": "stream",
     "text": [
      "[100/1000 | 765.49s] Mean: -0.0644 | Max: 1.5260 | Mean Lvl: 0.1100 | Max Lvl: 1.0.                     \n",
      "[200/1000 | 771.76s] Mean: -0.0752 | Max: 1.5920 | Mean Lvl: 0.1050 | Max Lvl: 1.0.                     \n",
      "[300/1000 | 773.74s] Mean: -0.0254 | Max: 1.6260 | Mean Lvl: 0.1167 | Max Lvl: 1.0.                     \n",
      "[400/1000 | 779.31s] Mean: -0.0541 | Max: 1.4240 | Mean Lvl: 0.1175 | Max Lvl: 1.0.                     \n",
      "[500/1000 | 779.72s] Mean: -0.0170 | Max: 1.3700 | Mean Lvl: 0.1240 | Max Lvl: 1.0.                     \n",
      "[600/1000 | 779.98s] Mean: -0.0399 | Max: 1.4560 | Mean Lvl: 0.1250 | Max Lvl: 1.0.                     \n",
      "[700/1000 | 785.29s] Mean: -0.0004 | Max: 1.5420 | Mean Lvl: 0.1314 | Max Lvl: 1.0.                     \n",
      "[800/1000 | 774.72s] Mean: -0.0544 | Max: 1.5960 | Mean Lvl: 0.1275 | Max Lvl: 1.0.                     \n",
      "[900/1000 | 786.92s] Mean: 0.0605 | Max: 1.4880 | Mean Lvl: 0.1378 | Max Lvl: 1.0.                      \n",
      "[1000/1000 | 768.15s] Mean: -0.0810 | Max: 1.5280 | Mean Lvl: 0.1330 | Max Lvl: 1.0.                     \n"
     ]
    }
   ],
   "source": [
    "training_clock = systime.time()\n",
    "\n",
    "for epoch in range(EPOCHS):\n",
    "    env_info = env.reset()\n",
    "    \n",
    "    # extract data from environment\n",
    "    state = Converter.ProcessState(env_info[0])\n",
    "    initial_time, curr_level = env_info[2], env_info[3]\n",
    "\n",
    "    # define parameters\n",
    "    last_time, time, done = initial_time, initial_time, False\n",
    "    acc_reward = 0 \n",
    "    \n",
    "    # Play a level\n",
    "    count = 0\n",
    "    agent.step_begin()\n",
    "    while not done and time > 0:\n",
    "        # Act\n",
    "        action = agent.act(state=state)\n",
    "        env_info = env.step(Converter.OneHot2Action(action[0]))\n",
    "        next_state = Converter.ProcessState(env_info[0][0])\n",
    "        level, time, done = env_info[-1]['current_floor'], env_info[-1]['time_remaining'], env_info[2]\n",
    "        \n",
    "        # Check if the player cleared a level\n",
    "        if level > curr_level:\n",
    "            reward, curr_level, initial_time = 1 + max(0,last_time) / initial_time, level, time\n",
    "        else:\n",
    "            reward = -1 / initial_time\n",
    "        acc_reward += reward\n",
    "            \n",
    "        # check if the simulation is done   \n",
    "        if done:\n",
    "            #buffer.add(state=state, action=action, reward=-1, next_state=next_state, done=done)\n",
    "            break\n",
    "        else:\n",
    "            #buffer.add(state=state, action=action, reward=reward, next_state=next_state, done=done)\n",
    "            state, last_time = next_state, time\n",
    "            count += 1\n",
    "            \n",
    "            if count % UPDATE_EVERY == 0:\n",
    "                agent.step_update()\n",
    "    \n",
    "    tracker.add(reward=acc_reward, level=curr_level)\n",
    "    tracker.save_levels(agent.get_folder())\n",
    "    agent.save()\n",
    "    \n",
    "    # Display step info\n",
    "    if (epoch+1) % DISPLAY_EVERY == 0:\n",
    "        tracker.display(epoch=epoch, total_epochs=EPOCHS, clock=systime.time()-training_clock, end=\"\\n\")\n",
    "        training_clock = systime.time()\n",
    "    else:\n",
    "        estimated_clock = (systime.time()-training_clock) * (DISPLAY_EVERY / ( (epoch+1) % DISPLAY_EVERY) - 1)\n",
    "        tracker.display(epoch=epoch, total_epochs=EPOCHS, clock=estimated_clock, end=\"\\r\")\n",
    "        \n",
    "    agent.step_end()"
   ]
  },
  {
   "cell_type": "code",
   "execution_count": 7,
   "metadata": {},
   "outputs": [],
   "source": [
    "torch.cuda.empty_cache()\n",
    "env.close()"
   ]
  },
  {
   "cell_type": "code",
   "execution_count": null,
   "metadata": {},
   "outputs": [],
   "source": []
  }
 ],
 "metadata": {
  "kernelspec": {
   "display_name": "Python [conda env:drlnd]",
   "language": "python",
   "name": "conda-env-drlnd-py"
  },
  "language_info": {
   "codemirror_mode": {
    "name": "ipython",
    "version": 3
   },
   "file_extension": ".py",
   "mimetype": "text/x-python",
   "name": "python",
   "nbconvert_exporter": "python",
   "pygments_lexer": "ipython3",
   "version": "3.6.8"
  }
 },
 "nbformat": 4,
 "nbformat_minor": 2
}
