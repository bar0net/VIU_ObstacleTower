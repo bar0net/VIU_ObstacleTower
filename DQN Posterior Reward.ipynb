{
 "cells": [
  {
   "cell_type": "code",
   "execution_count": 1,
   "metadata": {},
   "outputs": [],
   "source": [
    "from obstacle_tower_env import ObstacleTowerEnv\n",
    "\n",
    "import time as systime\n",
    "import numpy as np\n",
    "from collections import deque\n",
    "\n",
    "import torch\n",
    "device = torch.device(\"cuda:0\" if torch.cuda.is_available() else \"cpu\")"
   ]
  },
  {
   "cell_type": "code",
   "execution_count": 2,
   "metadata": {},
   "outputs": [
    {
     "ename": "SyntaxError",
     "evalue": "invalid syntax (Models.py, line 109)",
     "output_type": "error",
     "traceback": [
      "Traceback \u001b[1;36m(most recent call last)\u001b[0m:\n",
      "  File \u001b[0;32m\"C:\\Users\\aiolo\\Anaconda3\\envs\\drlnd\\lib\\site-packages\\IPython\\core\\interactiveshell.py\"\u001b[0m, line \u001b[0;32m3325\u001b[0m, in \u001b[0;35mrun_code\u001b[0m\n    exec(code_obj, self.user_global_ns, self.user_ns)\n",
      "  File \u001b[0;32m\"<ipython-input-2-1c14b8de2206>\"\u001b[0m, line \u001b[0;32m1\u001b[0m, in \u001b[0;35m<module>\u001b[0m\n    from Source.Agents import DoubleDQN_Agent\n",
      "  File \u001b[0;32m\"Z:\\Projects\\Python\\VIU\\10. TFM\\Source\\Agents.py\"\u001b[0m, line \u001b[0;32m16\u001b[0m, in \u001b[0;35m<module>\u001b[0m\n    from Source.Utils  import ModelSelect\n",
      "\u001b[1;36m  File \u001b[1;32m\"Z:\\Projects\\Python\\VIU\\10. TFM\\Source\\Utils.py\"\u001b[1;36m, line \u001b[1;32m10\u001b[1;36m, in \u001b[1;35m<module>\u001b[1;36m\u001b[0m\n\u001b[1;33m    import Source.Models\u001b[0m\n",
      "\u001b[1;36m  File \u001b[1;32m\"Z:\\Projects\\Python\\VIU\\10. TFM\\Source\\Models.py\"\u001b[1;36m, line \u001b[1;32m109\u001b[0m\n\u001b[1;33m    nn.ReLU(),\u001b[0m\n\u001b[1;37m     ^\u001b[0m\n\u001b[1;31mSyntaxError\u001b[0m\u001b[1;31m:\u001b[0m invalid syntax\n"
     ]
    }
   ],
   "source": [
    "from Source.Agents import DoubleDQN_Agent\n",
    "from Source.Buffer import Buffer, SortedBuffer\n",
    "from Source.Utils  import Tracker, Converter"
   ]
  },
  {
   "cell_type": "code",
   "execution_count": null,
   "metadata": {},
   "outputs": [],
   "source": [
    "UPDATE_EVERY = 4\n",
    "DISPLAY_EVERY = 100\n",
    "EPOCHS = 2500\n",
    "PREFIX = \"\"\n",
    "SUFFIX = \"M3_sb\"\n",
    "MODEL_NAME = \"DQN_3\"\n",
    "\n",
    "tracker = Tracker(DISPLAY_EVERY)"
   ]
  },
  {
   "cell_type": "markdown",
   "metadata": {},
   "source": [
    "----"
   ]
  },
  {
   "cell_type": "code",
   "execution_count": null,
   "metadata": {},
   "outputs": [],
   "source": [
    "env = ObstacleTowerEnv('./ObstacleTower/obstacletower', retro=False, realtime_mode=False)"
   ]
  },
  {
   "cell_type": "code",
   "execution_count": null,
   "metadata": {},
   "outputs": [],
   "source": [
    "action_size = np.prod(env.action_space.nvec.tolist()).item()\n",
    "state_size  = list(env.observation_space[0].shape)\n",
    "\n",
    "#buffer  = Buffer(buffer_size = 1e4, batch_size = 64)\n",
    "buffer  = SortedBuffer(buffer_size = 1e4, batch_size = 64)\n",
    "\n",
    "agent   = DoubleDQN_Agent(state_size=state_size, action_size=action_size, model_name=MODEL_NAME, buffer=buffer,\n",
    "                        device=device, n_iter=1, learning_rate=2e-4) \n",
    "\n",
    "\n",
    "tracker.load_levels(agent.get_folder(prefix=PREFIX, suffix=SUFFIX))\n",
    "agent.load_weights(prefix=PREFIX, suffix=SUFFIX)\n",
    "\n",
    "local_buffer = []"
   ]
  },
  {
   "cell_type": "code",
   "execution_count": null,
   "metadata": {
    "scrolled": false
   },
   "outputs": [],
   "source": [
    "training_clock = systime.time()\n",
    "\n",
    "for epoch in range(len(tracker.levels)):\n",
    "    agent.step_begin()\n",
    "    agent.step_end()\n",
    "\n",
    "for epoch in range(len(tracker.levels), EPOCHS):\n",
    "    env_info = env.reset()\n",
    "    \n",
    "    # extract data from environment\n",
    "    state = Converter.ProcessState(env_info[0])\n",
    "    initial_time, curr_level = env_info[2], env_info[3]\n",
    "\n",
    "    # define parameters\n",
    "    last_time, time, done = initial_time, initial_time, False\n",
    "    acc_reward = 0 \n",
    "    \n",
    "    # Play a level\n",
    "    count = 0\n",
    "    agent.step_begin()\n",
    "    while not done and time > 0:\n",
    "        # Act\n",
    "        action = agent.act(state=state)\n",
    "        env_info = env.step(Converter.OneHot2Action(action[0]))\n",
    "        next_state = Converter.ProcessState(env_info[0][0])\n",
    "        level, time, done = env_info[-1]['current_floor'], env_info[-1]['time_remaining'], env_info[2]   \n",
    "        \n",
    "        if done:\n",
    "            buffer.add(state=state, action=action, reward=-1, next_state=next_state, done=done)\n",
    "            break\n",
    "            \n",
    "        # Check if the player cleared a level\n",
    "        if level > curr_level:\n",
    "            # Dump stored states in local buffer and reset\n",
    "            for item in local_buffer:\n",
    "                buffer.add(state=item[0], action=item[1], reward=1/initial_time, next_state=item[2], done=item[3])\n",
    "            local_buffer.clear()\n",
    "            \n",
    "            # Add high reward for final step\n",
    "            reward, curr_level, initial_time = 1 + max(0,last_time) / initial_time, level, time\n",
    "            buffer.add(state=state, action=action, reward=reward, next_state=next_state, done=done)\n",
    "            acc_reward += reward\n",
    "        else:\n",
    "            local_buffer.append( (state, action, next_state, done) )\n",
    "            reward = -1 / initial_time\n",
    "            \n",
    "        # check if the simulation is done\n",
    "        state, last_time = next_state, time\n",
    "        count += 1\n",
    "\n",
    "        if count % UPDATE_EVERY == 0:\n",
    "            agent.step_update()\n",
    "        \n",
    "    # Dump stored states in local buffer and reset\n",
    "    for item in local_buffer:\n",
    "        buffer.add(state=item[0], action=item[1], reward=1/initial_time, next_state=item[2], done=item[3])\n",
    "    local_buffer.clear()\n",
    "    \n",
    "    tracker.add(reward=acc_reward, level=curr_level)\n",
    "    tracker.save_levels(agent.get_folder(prefix=PREFIX, suffix=SUFFIX))\n",
    "    agent.save(prefix=PREFIX, suffix=SUFFIX)\n",
    "    \n",
    "    # Display step info\n",
    "    if (epoch+1) % DISPLAY_EVERY == 0:\n",
    "        tracker.display(epoch=epoch, total_epochs=EPOCHS, clock=systime.time()-training_clock, end=\"\\n\")\n",
    "        training_clock = systime.time()\n",
    "    else:\n",
    "        estimated_clock = (systime.time()-training_clock) * (DISPLAY_EVERY / ( (epoch+1) % DISPLAY_EVERY) - 1)\n",
    "        tracker.display(epoch=epoch, total_epochs=EPOCHS, clock=estimated_clock, end=\"\\r\")\n",
    "        \n",
    "    buffer.update()\n",
    "    agent.step_end()"
   ]
  },
  {
   "cell_type": "code",
   "execution_count": null,
   "metadata": {},
   "outputs": [],
   "source": [
    "torch.cuda.empty_cache()\n",
    "env.close()"
   ]
  },
  {
   "cell_type": "code",
   "execution_count": null,
   "metadata": {},
   "outputs": [],
   "source": [
    "X = np.array([x.reward for x in buffer.memory])"
   ]
  },
  {
   "cell_type": "code",
   "execution_count": null,
   "metadata": {},
   "outputs": [],
   "source": [
    "X.mean()"
   ]
  },
  {
   "cell_type": "code",
   "execution_count": null,
   "metadata": {},
   "outputs": [],
   "source": [
    "X.std()"
   ]
  },
  {
   "cell_type": "code",
   "execution_count": null,
   "metadata": {},
   "outputs": [],
   "source": [
    "import matplotlib.pyplot as plt"
   ]
  },
  {
   "cell_type": "code",
   "execution_count": null,
   "metadata": {},
   "outputs": [],
   "source": [
    "plt.boxplot(X)"
   ]
  },
  {
   "cell_type": "code",
   "execution_count": null,
   "metadata": {},
   "outputs": [],
   "source": [
    "sum(X>0)"
   ]
  },
  {
   "cell_type": "code",
   "execution_count": null,
   "metadata": {},
   "outputs": [],
   "source": [
    "sum(X<=0.1)"
   ]
  },
  {
   "cell_type": "code",
   "execution_count": null,
   "metadata": {},
   "outputs": [],
   "source": [
    "sum(X > 0.1)"
   ]
  },
  {
   "cell_type": "code",
   "execution_count": null,
   "metadata": {},
   "outputs": [],
   "source": []
  }
 ],
 "metadata": {
  "kernelspec": {
   "display_name": "Python [conda env:drlnd]",
   "language": "python",
   "name": "conda-env-drlnd-py"
  },
  "language_info": {
   "codemirror_mode": {
    "name": "ipython",
    "version": 3
   },
   "file_extension": ".py",
   "mimetype": "text/x-python",
   "name": "python",
   "nbconvert_exporter": "python",
   "pygments_lexer": "ipython3",
   "version": "3.6.8"
  }
 },
 "nbformat": 4,
 "nbformat_minor": 2
}
