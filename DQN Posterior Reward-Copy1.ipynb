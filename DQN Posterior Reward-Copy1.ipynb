{
 "cells": [
  {
   "cell_type": "code",
   "execution_count": 1,
   "metadata": {},
   "outputs": [],
   "source": [
    "from obstacle_tower_env import ObstacleTowerEnv\n",
    "\n",
    "import time as systime\n",
    "import numpy as np\n",
    "from collections import deque\n",
    "\n",
    "import torch\n",
    "device = torch.device(\"cuda:0\" if torch.cuda.is_available() else \"cpu\")"
   ]
  },
  {
   "cell_type": "code",
   "execution_count": 2,
   "metadata": {},
   "outputs": [],
   "source": [
    "from Source.Agents import DoubleDQN_Agent\n",
    "from Source.Buffer import Buffer, SortedBuffer\n",
    "from Source.Utils  import Tracker, Converter"
   ]
  },
  {
   "cell_type": "code",
   "execution_count": 3,
   "metadata": {},
   "outputs": [],
   "source": [
    "UPDATE_EVERY = 4\n",
    "DISPLAY_EVERY = 100\n",
    "EPOCHS = 4\n",
    "PREFIX = \"\"\n",
    "SUFFIX = \"DDQN1_sb\"\n",
    "MODEL_NAME = \"DDQN_1\"\n",
    "\n",
    "tracker = Tracker(DISPLAY_EVERY)"
   ]
  },
  {
   "cell_type": "markdown",
   "metadata": {},
   "source": [
    "----"
   ]
  },
  {
   "cell_type": "code",
   "execution_count": 4,
   "metadata": {},
   "outputs": [
    {
     "name": "stderr",
     "output_type": "stream",
     "text": [
      "INFO:mlagents_envs:\n",
      "'ObstacleTower-v2.2' started successfully!\n",
      "Unity Academy name: ObstacleTower-v2.2\n",
      "        Number of Brains: 1\n",
      "        Number of Training Brains : 1\n",
      "        Reset Parameters :\n",
      "\t\tstarting-floor -> 0.0\n",
      "\t\tvisual-theme -> 1.0\n",
      "\t\tallowed-rooms -> 2.0\n",
      "\t\tdefault-theme -> 0.0\n",
      "\t\tallowed-floors -> 2.0\n",
      "\t\tagent-perspective -> 1.0\n",
      "\t\tlighting-type -> 1.0\n",
      "\t\tdense-reward -> 1.0\n",
      "\t\tallowed-modules -> 2.0\n",
      "\t\ttower-seed -> -1.0\n",
      "\t\ttotal-floors -> 100.0\n",
      "Unity brain name: LearningBrain\n",
      "        Number of Visual Observations (per agent): 1\n",
      "        Vector Observation space size (per agent): 8\n",
      "        Number of stacked Vector Observation: 1\n",
      "        Vector Action space type: discrete\n",
      "        Vector Action space size (per agent): [3, 3, 2, 3]\n",
      "        Vector Action descriptions: Movement Forward/Back, Camera, Jump, Movement Left/Right\n",
      "INFO:gym_unity:1 agents within environment.\n"
     ]
    }
   ],
   "source": [
    "env = ObstacleTowerEnv('./ObstacleTower/obstacletower', retro=False, realtime_mode=False)"
   ]
  },
  {
   "cell_type": "code",
   "execution_count": 5,
   "metadata": {},
   "outputs": [
    {
     "name": "stdout",
     "output_type": "stream",
     "text": [
      "Reloading existing model\n"
     ]
    }
   ],
   "source": [
    "action_size = 6 #np.prod(env.action_space.nvec.tolist()).item()\n",
    "state_size  = list(env.observation_space[0].shape)\n",
    "\n",
    "#buffer  = Buffer(buffer_size = 1e4, batch_size = 64)\n",
    "buffer  = SortedBuffer(buffer_size = 1e4, batch_size = 64)\n",
    "\n",
    "agent   = DoubleDQN_Agent(state_size=state_size, action_size=action_size, model_name=MODEL_NAME, buffer=buffer,\n",
    "                        device=device, n_iter=1, learning_rate=2e-4) \n",
    "\n",
    "\n",
    "tracker.load_levels(agent.get_folder(prefix=PREFIX, suffix=SUFFIX))\n",
    "agent.load_weights(prefix=PREFIX, suffix=SUFFIX)\n",
    "\n",
    "local_buffer = []"
   ]
  },
  {
   "cell_type": "code",
   "execution_count": 6,
   "metadata": {
    "scrolled": false
   },
   "outputs": [
    {
     "name": "stdout",
     "output_type": "stream",
     "text": [
      "[4/4 | 1244.18s] Mean: 0.0000 | Max: 0.0000 | Mean Lvl: 0.0000 | Max Lvl: 0.0.                     \r"
     ]
    }
   ],
   "source": [
    "training_clock = systime.time()\n",
    "\n",
    "for epoch in range(len(tracker.levels)):\n",
    "    agent.step_begin()\n",
    "    agent.step_end()\n",
    "\n",
    "for epoch in range(len(tracker.levels), EPOCHS):\n",
    "    env_info = env.reset()\n",
    "    \n",
    "    # extract data from environment\n",
    "    state = Converter.ProcessState(env_info[0])\n",
    "    initial_time, curr_level = env_info[2], env_info[3]\n",
    "\n",
    "    # define parameters\n",
    "    last_time, time, done = initial_time, initial_time, False\n",
    "    acc_reward = 0 \n",
    "    \n",
    "    # Play a level\n",
    "    count = 0\n",
    "    agent.step_begin()\n",
    "    while not done and time > 0:\n",
    "        # Act\n",
    "        action = agent.act(state=state)\n",
    "        env_info = env.step(Converter.OneHot2Action6(action[0]))\n",
    "        next_state = Converter.ProcessState(env_info[0][0])\n",
    "        level, time, done = env_info[-1]['current_floor'], env_info[-1]['time_remaining'], env_info[2]   \n",
    "        \n",
    "        if done:\n",
    "            buffer.add(state=state, action=action, reward=-1, next_state=next_state, done=done)\n",
    "            break\n",
    "            \n",
    "        # Check if the player cleared a level\n",
    "        if level > curr_level:\n",
    "            # Dump stored states in local buffer and reset\n",
    "            for item in local_buffer:\n",
    "                buffer.add(state=item[0], action=item[1], reward=1/initial_time, next_state=item[2], done=item[3])\n",
    "            local_buffer.clear()\n",
    "            \n",
    "            # Add high reward for final step\n",
    "            reward, curr_level, initial_time = 1 + max(0,last_time) / initial_time, level, time\n",
    "            buffer.add(state=state, action=action, reward=reward, next_state=next_state, done=done)\n",
    "            acc_reward += reward\n",
    "        else:\n",
    "            local_buffer.append( (state, action, next_state, done) )\n",
    "            reward = -1 / initial_time\n",
    "            \n",
    "        # check if the simulation is done\n",
    "        state, last_time = next_state, time\n",
    "        count += 1\n",
    "\n",
    "        if count % UPDATE_EVERY == 0:\n",
    "            agent.step_update()\n",
    "        \n",
    "    # Dump stored states in local buffer and reset\n",
    "    for item in local_buffer:\n",
    "        buffer.add(state=item[0], action=item[1], reward=1/initial_time, next_state=item[2], done=item[3])\n",
    "    local_buffer.clear()\n",
    "    \n",
    "    tracker.add(reward=acc_reward, level=curr_level)\n",
    "    tracker.save_levels(agent.get_folder(prefix=PREFIX, suffix=SUFFIX))\n",
    "    agent.save(prefix=PREFIX, suffix=SUFFIX)\n",
    "    \n",
    "    # Display step info\n",
    "    if (epoch+1) % DISPLAY_EVERY == 0:\n",
    "        tracker.display(epoch=epoch, total_epochs=EPOCHS, clock=systime.time()-training_clock, end=\"\\n\")\n",
    "        training_clock = systime.time()\n",
    "    else:\n",
    "        estimated_clock = (systime.time()-training_clock) * (DISPLAY_EVERY / ( (epoch+1) % DISPLAY_EVERY) - 1)\n",
    "        tracker.display(epoch=epoch, total_epochs=EPOCHS, clock=estimated_clock, end=\"\\r\")\n",
    "        \n",
    "    buffer.update()\n",
    "    agent.step_end()"
   ]
  },
  {
   "cell_type": "code",
   "execution_count": 7,
   "metadata": {},
   "outputs": [],
   "source": [
    "torch.cuda.empty_cache()\n",
    "env.close()"
   ]
  },
  {
   "cell_type": "code",
   "execution_count": null,
   "metadata": {},
   "outputs": [],
   "source": []
  }
 ],
 "metadata": {
  "kernelspec": {
   "display_name": "Python [conda env:drlnd]",
   "language": "python",
   "name": "conda-env-drlnd-py"
  },
  "language_info": {
   "codemirror_mode": {
    "name": "ipython",
    "version": 3
   },
   "file_extension": ".py",
   "mimetype": "text/x-python",
   "name": "python",
   "nbconvert_exporter": "python",
   "pygments_lexer": "ipython3",
   "version": "3.6.8"
  }
 },
 "nbformat": 4,
 "nbformat_minor": 2
}
